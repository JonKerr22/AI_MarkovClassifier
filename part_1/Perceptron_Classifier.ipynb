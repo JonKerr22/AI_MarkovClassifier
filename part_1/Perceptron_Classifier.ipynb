{
 "cells": [
  {
   "cell_type": "code",
   "execution_count": 3,
   "metadata": {},
   "outputs": [],
   "source": [
    "import math\n",
    "from collections import defaultdict\n",
    "import random"
   ]
  },
  {
   "cell_type": "code",
   "execution_count": 68,
   "metadata": {},
   "outputs": [],
   "source": [
    "class Dataset:\n",
    "    def __init__(self, images_file, labels_file, lines_per_image = 28):\n",
    "        self.images = []\n",
    "        self.labels = []\n",
    "        self.counts_by_label = defaultdict(int)\n",
    "        self.priors = {}\n",
    "        with open(images_file) as file:\n",
    "            EOF = False\n",
    "            while not EOF:\n",
    "                image = []\n",
    "                for i in range(lines_per_image):\n",
    "                    line = file.readline()\n",
    "                    if not line:\n",
    "                        EOF = True\n",
    "                        break\n",
    "                    image.append(list(line))\n",
    "                if EOF:\n",
    "                    break\n",
    "                self.images.append(image)\n",
    "        with open(labels_file) as file:\n",
    "            for i,label in enumerate(file):\n",
    "                label = int(label)\n",
    "                self.labels.append(label)\n",
    "                self.counts_by_label[label]+=1\n",
    "    def display(self, i):\n",
    "        print(\"\".join(map(lambda x: \"\".join(x),self.images[i])))\n",
    "    def __len__(self):\n",
    "        return len(self.labels)\n",
    "    \n",
    "    def shuffleData(self):\n",
    "        order = list(zip(self.labels, self.images))\n",
    "        random.shuffle(order)\n",
    "        tempL, tempI = zip(*order) #zip turns them into giant tuples, want in list form\n",
    "        self.labels = list(tempL)\n",
    "        self.images = list(tempI)\n",
    "    \n",
    "    \n",
    "class Perceptron:\n",
    "    def __init__(self, label):\n",
    "        self.label = label                                \n",
    "        self.bias = 0.1 #random.random() #commented because idk which one to ultimately use\n",
    "        self.weightVector = [[self.bias for i in range(28)] for j in range(28)]\n",
    "        self.totalCount = 0\n",
    "        \n",
    "        \n",
    "    def display(self):\n",
    "        print('\\n'.join(str(self.weightVector[i]) for i in range(28)))\n",
    "        \n",
    "    def trainVectorOnCorrect(self, image):\n",
    "        self.totalCount += 1 \n",
    "        for i in range(28):\n",
    "            for j in range(28):\n",
    "                if(image[i][j] != ' ' and image[i][j] != '\\n'):\n",
    "                    self.weightVector[i][j] += 2 #not sure what exact values should be\n",
    "    def trainVectorOnIncorrect(self, image):\n",
    "        self.totalCount -= 1\n",
    "        for i in range(28):\n",
    "            for j in range(28):\n",
    "                if(image[i][j] != ' ' and image[i][j] != '\\n'):\n",
    "                     self.weightVector[i][j] -=1\n",
    "                        \n",
    "    def imageEvaluation(self, image):\n",
    "        likelihood = 0\n",
    "        for i in range(28):\n",
    "            for j in range(28):\n",
    "                if(image[i][j] == ' '):\n",
    "                    likelihood -= self.weightVector[i][j]\n",
    "                elif image[i][j] != '\\n':\n",
    "                    likelihood += self.weightVector[i][j]\n",
    "        return likelihood"
   ]
  },
  {
   "cell_type": "code",
   "execution_count": 69,
   "metadata": {},
   "outputs": [],
   "source": [
    "trainingData = Dataset(\"trainingimages\", \"traininglabels\")\n",
    "perceptrons = [None]*10\n",
    "for i in range(10):\n",
    "    perceptrons[i] = Perceptron(i)"
   ]
  },
  {
   "cell_type": "code",
   "execution_count": 71,
   "metadata": {},
   "outputs": [],
   "source": [
    "for i in range(len(trainingData.images)):\n",
    "    currDigit = trainingData.labels[i]\n",
    "    currPercept = perceptrons[currDigit]\n",
    "    currPercept.trainVectorOnCorrect(trainingData.images[i])"
   ]
  },
  {
   "cell_type": "code",
   "execution_count": 72,
   "metadata": {},
   "outputs": [
    {
     "name": "stdout",
     "output_type": "stream",
     "text": [
      "[70, 1, 0, 1, 0, 1, 13, 0, 0, 4]\n",
      "[0, 108, 0, 0, 0, 0, 0, 0, 0, 0]\n",
      "[3, 59, 22, 2, 1, 1, 10, 3, 1, 1]\n",
      "[0, 38, 0, 53, 0, 0, 1, 6, 0, 2]\n",
      "[0, 17, 0, 0, 55, 0, 4, 0, 0, 31]\n",
      "[4, 22, 0, 25, 3, 14, 5, 3, 3, 13]\n",
      "[0, 27, 0, 0, 6, 0, 58, 0, 0, 0]\n",
      "[0, 32, 0, 0, 1, 0, 0, 62, 0, 11]\n",
      "[2, 59, 0, 6, 1, 0, 4, 2, 13, 16]\n",
      "[1, 13, 0, 1, 5, 0, 0, 0, 0, 80]\n"
     ]
    }
   ],
   "source": [
    "testData = Dataset(\"testimages\", \"testlabels\")\n",
    "confusion_matrix_count = [[0 for i in range(10)] for j in range(10)]\n",
    "\n",
    "for i in range(len(testData.images)):\n",
    "    currImage = testData.images[i]\n",
    "    chances = [perceptrons[j].imageEvaluation(currImage) for j in range(10)]\n",
    "    bestGuess = chances.index(max(chances))\n",
    "    actualLabel = testData.labels[i]\n",
    "    if bestGuess == actualLabel :\n",
    "        perceptrons[actualLabel].trainVectorOnCorrect(currImage)\n",
    "        confusion_matrix_count[bestGuess][bestGuess] +=1\n",
    "    else :\n",
    "        perceptrons[actualLabel].trainVectorOnIncorrect(currImage)\n",
    "        confusion_matrix_count[actualLabel][bestGuess] +=1\n",
    "\n",
    "for i in range(10):\n",
    "    print(confusion_matrix_count[i])"
   ]
  },
  {
   "cell_type": "code",
   "execution_count": null,
   "metadata": {},
   "outputs": [],
   "source": []
  }
 ],
 "metadata": {
  "kernelspec": {
   "display_name": "Python 3",
   "language": "python",
   "name": "python3"
  },
  "language_info": {
   "codemirror_mode": {
    "name": "ipython",
    "version": 3
   },
   "file_extension": ".py",
   "mimetype": "text/x-python",
   "name": "python",
   "nbconvert_exporter": "python",
   "pygments_lexer": "ipython3",
   "version": "3.5.2"
  }
 },
 "nbformat": 4,
 "nbformat_minor": 2
}

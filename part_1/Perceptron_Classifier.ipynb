{
 "cells": [
  {
   "cell_type": "code",
   "execution_count": 1,
   "metadata": {},
   "outputs": [],
   "source": [
    "import math\n",
    "from collections import defaultdict\n",
    "import random"
   ]
  },
  {
   "cell_type": "code",
   "execution_count": 42,
   "metadata": {},
   "outputs": [],
   "source": [
    "class Dataset:\n",
    "    def __init__(self, images_file, labels_file, lines_per_image = 28):\n",
    "        self.images = []\n",
    "        self.labels = []\n",
    "        self.counts_by_label = defaultdict(int)\n",
    "        self.priors = {}\n",
    "        with open(images_file) as file:\n",
    "            EOF = False\n",
    "            while not EOF:\n",
    "                image = []\n",
    "                for i in range(lines_per_image):\n",
    "                    line = file.readline()\n",
    "                    if not line:\n",
    "                        EOF = True\n",
    "                        break\n",
    "                    image.append(list(line))\n",
    "                if EOF:\n",
    "                    break\n",
    "                self.images.append(image)\n",
    "        with open(labels_file) as file:\n",
    "            for i,label in enumerate(file):\n",
    "                label = int(label)\n",
    "                self.labels.append(label)\n",
    "                self.counts_by_label[label]+=1\n",
    "    def display(self, i):\n",
    "        print(\"\".join(map(lambda x: \"\".join(x),self.images[i])))\n",
    "    def __len__(self):\n",
    "        return len(self.labels)\n",
    "    \n",
    "    def shuffleData(self):\n",
    "        order = list(zip(self.labels, self.images))\n",
    "        random.shuffle(order)\n",
    "        tempL, tempI = zip(*order) #zip turns them into giant tuples, want in list form\n",
    "        self.labels = list(tempL)\n",
    "        self.images = list(tempI)\n",
    "    \n",
    "    \n",
    "class Perceptron:\n",
    "    def __init__(self, label):\n",
    "        self.label = label                                \n",
    "        self.bias = 0 #random.random() #commented because idk which one to ultimately use\n",
    "        self.weightVector = [[0 for i in range(28)] for j in range(28)]\n",
    "        self.totalCount = 0\n",
    "        \n",
    "        \n",
    "    def display(self):\n",
    "        print('\\n'.join(str(self.weightVector[i]) for i in range(28)))\n",
    "        \n",
    "    def trainVectorOnCorrect(self, image):\n",
    "        #self.totalCount += 1 \n",
    "        for i in range(28):\n",
    "            for j in range(28):\n",
    "                if(image[i][j] != ' ' and image[i][j] != '\\n'):\n",
    "                    self.weightVector[i][j] += 2 #not sure what exact values should be\n",
    "    def trainVectorOnIncorrect(self, image):\n",
    "        #self.totalCount -= 1\n",
    "        for i in range(28):\n",
    "            for j in range(28):\n",
    "                if(image[i][j] != ' ' and image[i][j] != '\\n'):\n",
    "                     self.weightVector[i][j] -= 2 \n",
    "                        \n",
    "    def imageEvaluation(self, image):\n",
    "        likelihood = 0\n",
    "        for i in range(28):\n",
    "            for j in range(28):\n",
    "                if(image[i][j] == ' '):\n",
    "                    likelihood -= self.weightVector[i][j]\n",
    "                elif image[i][j] != '\\n':\n",
    "                    likelihood += self.weightVector[i][j]\n",
    "        return likelihood"
   ]
  },
  {
   "cell_type": "code",
   "execution_count": 43,
   "metadata": {},
   "outputs": [],
   "source": [
    "def retrainLoop(image, actualLabel):\n",
    "    iterationLimit = 10\n",
    "    while(True):\n",
    "        if(iterationLimit < 0):\n",
    "            break\n",
    "        chances = [perceptrons[j].imageEvaluation(image) for j in range(10)]\n",
    "        bestGuess = chances.index(max(chances))\n",
    "        #print(chances)\n",
    "        #print(\"is: \" +  str(actualLabel) + \" guessed: \" + str(bestGuess))\n",
    "        if bestGuess == actualLabel:\n",
    "            perceptrons[actualLabel].trainVectorOnCorrect(image)\n",
    "            break\n",
    "        else :\n",
    "            perceptrons[actualLabel].trainVectorOnIncorrect(perceptrons[bestGuess].weightVector)\n",
    "            perceptrons[actualLabel].trainVectorOnCorrect(image)\n",
    "        iterationLimit -= 1"
   ]
  },
  {
   "cell_type": "code",
   "execution_count": 44,
   "metadata": {},
   "outputs": [],
   "source": [
    "trainingData = Dataset(\"trainingimages\", \"traininglabels\")\n",
    "perceptrons = [None]*10\n",
    "for i in range(10):\n",
    "    perceptrons[i] = Perceptron(i)"
   ]
  },
  {
   "cell_type": "code",
   "execution_count": 45,
   "metadata": {},
   "outputs": [
    {
     "name": "stdout",
     "output_type": "stream",
     "text": [
      "done with epoch -1\n",
      "epoch number: 0, accuracy: 0.9942\n",
      "epoch number: 1, accuracy: 1.0\n",
      "epoch number: 2, accuracy: 1.0\n"
     ]
    }
   ],
   "source": [
    "#first training pass, epoch -1 so to speak\n",
    "\n",
    "for i in range(len(trainingData.images)):\n",
    "    currDigit = trainingData.labels[i]    \n",
    "    currPercept = perceptrons[currDigit]\n",
    "    currPercept.trainVectorOnCorrect(trainingData.images[i])\n",
    "print(\"done with epoch -1\")  \n",
    "\n",
    "\n",
    "#\n",
    "# RUNNING ALL EPOCHS TAKES A VERY LONG TIME\n",
    "#\n",
    "epochs = 3\n",
    "for q in range(epochs):\n",
    "    correctGuesses = 0\n",
    "    for i in range(len(trainingData.images)):\n",
    "        currImage = trainingData.images[i]\n",
    "        actualLabel = trainingData.labels[i]\n",
    "        for j in range(10):\n",
    "            activate = perceptrons[j].imageEvaluation(currImage)\n",
    "            if activate > 1000: \n",
    "                if j == actualLabel :\n",
    "                    correctGuesses +=1\n",
    "                    perceptrons[actualLabel].trainVectorOnCorrect(currImage)\n",
    "                else :\n",
    "                    retrainLoop(currImage, actualLabel)\n",
    "            elif j== actualLabel:\n",
    "                perceptrons[actualLabel].trainVectorOnCorrect(currImage)\n",
    "\n",
    "    print(\"epoch number: \" + str(q) + \", accuracy: \" + str(correctGuesses/len(trainingData.images)))"
   ]
  },
  {
   "cell_type": "code",
   "execution_count": 47,
   "metadata": {},
   "outputs": [],
   "source": [
    "testData = Dataset(\"testimages\", \"testlabels\")\n",
    "confusion_matrix_count = [[0 for i in range(10)] for j in range(10)]\n",
    "\n",
    "indices = len(testData.images)\n",
    "for i in range(indices):\n",
    "    currImage = testData.images[i]\n",
    "    chances = [perceptrons[j].imageEvaluation(currImage) for j in range(10)]\n",
    "    bestGuess = chances.index(max(chances))\n",
    "    actualLabel = testData.labels[i]\n",
    "    if bestGuess == actualLabel :\n",
    "        #perceptrons[actualLabel].trainVectorOnCorrect(currImage)\n",
    "        confusion_matrix_count[bestGuess][bestGuess] +=1\n",
    "    else :\n",
    "        #retrainLoop(currImage, actualLabel)\n",
    "        confusion_matrix_count[actualLabel][bestGuess] +=1\n"
   ]
  },
  {
   "cell_type": "code",
   "execution_count": 48,
   "metadata": {},
   "outputs": [
    {
     "name": "stdout",
     "output_type": "stream",
     "text": [
      "[60, 0, 2, 0, 0, 21, 5, 0, 2, 0]\n",
      "[0, 103, 2, 0, 0, 2, 1, 0, 0, 0]\n",
      "[1, 2, 81, 4, 1, 2, 7, 0, 3, 2]\n",
      "[0, 0, 0, 74, 0, 18, 0, 3, 2, 3]\n",
      "[0, 1, 2, 0, 92, 1, 3, 1, 1, 6]\n",
      "[0, 1, 0, 2, 1, 84, 0, 1, 2, 1]\n",
      "[0, 3, 4, 0, 5, 9, 68, 0, 2, 0]\n",
      "[0, 4, 11, 1, 1, 5, 0, 72, 0, 12]\n",
      "[0, 1, 2, 12, 0, 15, 0, 1, 66, 6]\n",
      "[0, 2, 1, 4, 6, 5, 0, 2, 1, 79]\n",
      "Label: 0 was accurate at a rate of: 66.66666666666667%\n",
      "Label: 1 was accurate at a rate of: 95.37037037037037%\n",
      "Label: 2 was accurate at a rate of: 78.64077669902913%\n",
      "Label: 3 was accurate at a rate of: 74.0%\n",
      "Label: 4 was accurate at a rate of: 85.98130841121495%\n",
      "Label: 5 was accurate at a rate of: 91.30434782608695%\n",
      "Label: 6 was accurate at a rate of: 74.72527472527473%\n",
      "Label: 7 was accurate at a rate of: 67.9245283018868%\n",
      "Label: 8 was accurate at a rate of: 64.07766990291262%\n",
      "Label: 9 was accurate at a rate of: 79.0%\n"
     ]
    }
   ],
   "source": [
    "for i in range(10):\n",
    "    print(confusion_matrix_count[i])\n",
    "    \n",
    "for i in range(10):\n",
    "    correct = confusion_matrix_count[i][i]\n",
    "    total = sum(confusion_matrix_count[i])\n",
    "    rate = 100* correct/total\n",
    "    print(\"Label: \"+ str(i) + \" was accurate at a rate of: \" + str(rate) + \"%\" )"
   ]
  },
  {
   "cell_type": "code",
   "execution_count": null,
   "metadata": {},
   "outputs": [],
   "source": []
  }
 ],
 "metadata": {
  "kernelspec": {
   "display_name": "Python 3",
   "language": "python",
   "name": "python3"
  },
  "language_info": {
   "codemirror_mode": {
    "name": "ipython",
    "version": 3
   },
   "file_extension": ".py",
   "mimetype": "text/x-python",
   "name": "python",
   "nbconvert_exporter": "python",
   "pygments_lexer": "ipython3",
   "version": "3.5.2"
  }
 },
 "nbformat": 4,
 "nbformat_minor": 2
}

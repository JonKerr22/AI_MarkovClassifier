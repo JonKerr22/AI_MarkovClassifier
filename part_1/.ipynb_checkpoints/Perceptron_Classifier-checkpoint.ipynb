{
 "cells": [
  {
   "cell_type": "code",
   "execution_count": 4,
   "metadata": {},
   "outputs": [],
   "source": [
    "import math\n",
    "from collections import defaultdict"
   ]
  },
  {
   "cell_type": "code",
   "execution_count": 11,
   "metadata": {},
   "outputs": [],
   "source": [
    "class Dataset:\n",
    "    def __init__(self, images_file, labels_file, lines_per_image = 28):\n",
    "        self.images = []\n",
    "        self.labels = []\n",
    "        self.counts_by_label = defaultdict(int)\n",
    "        self.priors = {}\n",
    "        with open(images_file) as file:\n",
    "            EOF = False\n",
    "            while not EOF:\n",
    "                image = []\n",
    "                for i in range(lines_per_image):\n",
    "                    line = file.readline()\n",
    "                    if not line:\n",
    "                        EOF = True\n",
    "                        break\n",
    "                    image.append(list(line))\n",
    "                if EOF:\n",
    "                    break\n",
    "                self.images.append(image)\n",
    "        with open(labels_file) as file:\n",
    "            for i,label in enumerate(file):\n",
    "                label = int(label)\n",
    "                self.labels.append(label)\n",
    "                self.counts_by_label[label]+=1\n",
    "    def display(self, i):\n",
    "        print(\"\".join(map(lambda x: \"\".join(x),self.images[i])))\n",
    "    def __len__(self):\n",
    "        return len(self.labels)\n",
    "    \n",
    "    \n",
    "class Perceptron:\n",
    "    def __init__(self, label, imageSizeX = 28, imageSizeY = 28, bias = 0):\n",
    "        self.label = label\n",
    "        self.weightVector = [[0 for i in range(imageSizeX)] for j in range(imageSizeY)]\n",
    "        self.totalCount = 0\n",
    "        self.bias = bias"
   ]
  },
  {
   "cell_type": "code",
   "execution_count": 12,
   "metadata": {},
   "outputs": [],
   "source": [
    "testData = Dataset(\"testimages\", \"testlabels\")\n",
    "trainingData = Dataset(\"trainingimages\", \"traininglabels\")\n",
    "perceptrons = [None]*10\n",
    "for i in range(10):\n",
    "    perceptrons[i] = Perceptron(i)"
   ]
  },
  {
   "cell_type": "code",
   "execution_count": 14,
   "metadata": {},
   "outputs": [
    {
     "name": "stdout",
     "output_type": "stream",
     "text": [
      "784\n"
     ]
    }
   ],
   "source": [
    "print(len(perceptrons[0].weightVector) * len(perceptrons[0].weightVector[0]))"
   ]
  },
  {
   "cell_type": "code",
   "execution_count": null,
   "metadata": {},
   "outputs": [],
   "source": []
  }
 ],
 "metadata": {
  "kernelspec": {
   "display_name": "Python 3",
   "language": "python",
   "name": "python3"
  },
  "language_info": {
   "codemirror_mode": {
    "name": "ipython",
    "version": 3
   },
   "file_extension": ".py",
   "mimetype": "text/x-python",
   "name": "python",
   "nbconvert_exporter": "python",
   "pygments_lexer": "ipython3",
   "version": "3.5.2"
  }
 },
 "nbformat": 4,
 "nbformat_minor": 2
}

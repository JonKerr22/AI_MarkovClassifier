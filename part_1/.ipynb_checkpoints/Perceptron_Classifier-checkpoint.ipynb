{
 "cells": [
  {
   "cell_type": "code",
   "execution_count": 2,
   "metadata": {},
   "outputs": [],
   "source": [
    "import math\n",
    "from collections import defaultdict\n",
    "import random"
   ]
  },
  {
   "cell_type": "code",
   "execution_count": 3,
   "metadata": {},
   "outputs": [],
   "source": [
    "class Dataset:\n",
    "    def __init__(self, images_file, labels_file, lines_per_image = 28):\n",
    "        self.images = []\n",
    "        self.labels = []\n",
    "        self.counts_by_label = defaultdict(int)\n",
    "        self.priors = {}\n",
    "        with open(images_file) as file:\n",
    "            EOF = False\n",
    "            while not EOF:\n",
    "                image = []\n",
    "                for i in range(lines_per_image):\n",
    "                    line = file.readline()\n",
    "                    if not line:\n",
    "                        EOF = True\n",
    "                        break\n",
    "                    image.append(list(line))\n",
    "                if EOF:\n",
    "                    break\n",
    "                self.images.append(image)\n",
    "        with open(labels_file) as file:\n",
    "            for i,label in enumerate(file):\n",
    "                label = int(label)\n",
    "                self.labels.append(label)\n",
    "                self.counts_by_label[label]+=1\n",
    "    def display(self, i):\n",
    "        print(\"\".join(map(lambda x: \"\".join(x),self.images[i])))\n",
    "    def __len__(self):\n",
    "        return len(self.labels)\n",
    "    \n",
    "    \n",
    "class Perceptron:\n",
    "    def __init__(self, label):\n",
    "        self.label = label\n",
    "                                    #using magic numbers since all inputs same size\n",
    "        self.weightVector = [[0 for i in range(28)] for j in range(28)]\n",
    "        self.totalCount = 0\n",
    "        self.bias = 0.1 #random.random() #commented because idk which one to ultimately use"
   ]
  },
  {
   "cell_type": "code",
   "execution_count": 4,
   "metadata": {},
   "outputs": [
    {
     "name": "stdout",
     "output_type": "stream",
     "text": [
      "0.13484165876906695\n",
      "0.172657901756477\n",
      "0.8923576660544538\n",
      "0.8557032413204352\n",
      "0.052116790114618006\n",
      "0.9550391220347783\n",
      "0.33236346432744346\n",
      "0.9091763662631438\n",
      "0.8627071145984528\n",
      "0.6158261890764176\n"
     ]
    }
   ],
   "source": [
    "testData = Dataset(\"testimages\", \"testlabels\")\n",
    "trainingData = Dataset(\"trainingimages\", \"traininglabels\")\n",
    "perceptrons = [None]*10\n",
    "for i in range(10):\n",
    "    perceptrons[i] = Perceptron(i)\n",
    "    print(perceptrons[i].bias)"
   ]
  },
  {
   "cell_type": "code",
   "execution_count": 14,
   "metadata": {},
   "outputs": [
    {
     "name": "stdout",
     "output_type": "stream",
     "text": [
      "784\n"
     ]
    }
   ],
   "source": [
    "print(len(perceptrons[0].weightVector) * len(perceptrons[0].weightVector[0]))"
   ]
  },
  {
   "cell_type": "code",
   "execution_count": null,
   "metadata": {},
   "outputs": [],
   "source": []
  }
 ],
 "metadata": {
  "kernelspec": {
   "display_name": "Python 3",
   "language": "python",
   "name": "python3"
  }
 },
 "nbformat": 4,
 "nbformat_minor": 2
}

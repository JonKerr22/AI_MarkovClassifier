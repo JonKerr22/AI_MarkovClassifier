{
 "cells": [
  {
   "cell_type": "code",
   "execution_count": 27,
   "metadata": {},
   "outputs": [],
   "source": [
    "import math\n",
    "from collections import defaultdict\n",
    "import random"
   ]
  },
  {
   "cell_type": "code",
   "execution_count": 127,
   "metadata": {},
   "outputs": [],
   "source": [
    "class Dataset:\n",
    "    def __init__(self, images_file, labels_file, lines_per_image = 28):\n",
    "        self.images = []\n",
    "        self.labels = []\n",
    "        self.counts_by_label = defaultdict(int)\n",
    "        self.priors = {}\n",
    "        with open(images_file) as file:\n",
    "            EOF = False\n",
    "            while not EOF:\n",
    "                image = []\n",
    "                for i in range(lines_per_image):\n",
    "                    line = file.readline()\n",
    "                    if not line:\n",
    "                        EOF = True\n",
    "                        break\n",
    "                    image.append(list(line))\n",
    "                if EOF:\n",
    "                    break\n",
    "                self.images.append(image)\n",
    "        with open(labels_file) as file:\n",
    "            for i,label in enumerate(file):\n",
    "                label = int(label)\n",
    "                self.labels.append(label)\n",
    "                self.counts_by_label[label]+=1\n",
    "    def display(self, i):\n",
    "        print(\"\".join(map(lambda x: \"\".join(x),self.images[i])))\n",
    "    def __len__(self):\n",
    "        return len(self.labels)\n",
    "    \n",
    "    def shuffleData(self):\n",
    "        order = list(zip(self.labels, self.images))\n",
    "        random.shuffle(order)\n",
    "        tempL, tempI = zip(*order) #zip turns them into giant tuples, want in list form\n",
    "        self.labels = list(tempL)\n",
    "        self.images = list(tempI)\n",
    "    \n",
    "    \n",
    "class Perceptron:\n",
    "    def __init__(self, label):\n",
    "        self.label = label                                \n",
    "        self.bias = 0 #random.random() #commented because idk which one to ultimately use\n",
    "        self.weightVector = [[self.bias for i in range(28)] for j in range(28)]\n",
    "        self.totalCount = 0\n",
    "        \n",
    "        \n",
    "    def display(self):\n",
    "        print('\\n'.join(str(self.weightVector[i]) for i in range(28)))\n",
    "        \n",
    "    def trainVectorOnCorrect(self, image):\n",
    "        #self.totalCount += 1 \n",
    "        for i in range(28):\n",
    "            for j in range(28):\n",
    "                if(image[i][j] != ' ' and image[i][j] != '\\n'):\n",
    "                    self.weightVector[i][j] += 1 #not sure what exact values should be\n",
    "    def trainVectorOnIncorrect(self, image):\n",
    "        #self.totalCount -= 1\n",
    "        for i in range(28):\n",
    "            for j in range(28):\n",
    "                if(image[i][j] != ' ' and image[i][j] != '\\n'):\n",
    "                     self.weightVector[i][j] -=1\n",
    "                        \n",
    "    def imageEvaluation(self, image):\n",
    "        likelihood = 0\n",
    "        for i in range(28):\n",
    "            for j in range(28):\n",
    "                if(image[i][j] == ' '):\n",
    "                    likelihood -= self.weightVector[i][j]\n",
    "                elif image[i][j] != '\\n':\n",
    "                    likelihood += self.weightVector[i][j]\n",
    "        return likelihood"
   ]
  },
  {
   "cell_type": "code",
   "execution_count": 131,
   "metadata": {},
   "outputs": [],
   "source": [
    "def retrainLoop(image, actualLabel):\n",
    "    iterationLimit = 15\n",
    "    while(True):\n",
    "        if(iterationLimit < 0):\n",
    "            break\n",
    "        chances = [perceptrons[j].imageEvaluation(image) for j in range(10)]\n",
    "        bestGuess = chances.index(max(chances))\n",
    "        #print(chances)\n",
    "        #print(\"is: \" +  str(actualLabel) + \" guessed: \" + str(bestGuess))\n",
    "        if bestGuess == actualLabel:\n",
    "            perceptrons[actualLabel].trainVectorOnCorrect(image)\n",
    "            break\n",
    "        else :\n",
    "            perceptrons[bestGuess].trainVectorOnIncorrect(image)\n",
    "            perceptrons[actualLabel].trainVectorOnCorrect(image)\n",
    "        iterationLimit -= 1"
   ]
  },
  {
   "cell_type": "code",
   "execution_count": 132,
   "metadata": {},
   "outputs": [],
   "source": [
    "trainingData = Dataset(\"trainingimages\", \"traininglabels\")\n",
    "perceptrons = [None]*10\n",
    "for i in range(10):\n",
    "    perceptrons[i] = Perceptron(i)"
   ]
  },
  {
   "cell_type": "code",
   "execution_count": 133,
   "metadata": {},
   "outputs": [
    {
     "name": "stdout",
     "output_type": "stream",
     "text": [
      "done with epoch -1\n",
      "epoch number: 0, accuracy: 0.3994\n",
      "epoch number: 1, accuracy: 0.3752\n",
      "epoch number: 2, accuracy: 0.375\n",
      "epoch number: 3, accuracy: 0.3754\n",
      "epoch number: 4, accuracy: 0.3744\n",
      "epoch number: 5, accuracy: 0.374\n",
      "epoch number: 6, accuracy: 0.3736\n",
      "epoch number: 7, accuracy: 0.3734\n",
      "epoch number: 8, accuracy: 0.3734\n",
      "epoch number: 9, accuracy: 0.3734\n"
     ]
    }
   ],
   "source": [
    "#first training pass, epoch -1 so to speak\n",
    "for i in range(len(trainingData.images)):\n",
    "    currDigit = trainingData.labels[i]\n",
    "    currPercept = perceptrons[currDigit]\n",
    "    currPercept.trainVectorOnCorrect(trainingData.images[i])\n",
    "print(\"done with epoch -1\")  \n",
    "\n",
    "#\n",
    "# RUNNING ALL 10 EPOCHS TAKES A VERY VERY LONG TIME\n",
    "#\n",
    "epochs = 10\n",
    "for q in range(epochs):\n",
    "    correctGuesses = 0\n",
    "    for i in range(len(trainingData.images)):\n",
    "        currImage = trainingData.images[i]\n",
    "        chances = [perceptrons[j].imageEvaluation(currImage) for j in range(10)]\n",
    "        bestGuess = chances.index(max(chances))\n",
    "        actualLabel = trainingData.labels[i]\n",
    "        if bestGuess == actualLabel :\n",
    "            correctGuesses +=1\n",
    "            perceptrons[actualLabel].trainVectorOnCorrect(currImage)\n",
    "        else :\n",
    "            \n",
    "            retrainLoop(currImage, actualLabel)\n",
    "    print(\"epoch number: \" + str(q) + \", accuracy: \" + str(correctGuesses/len(trainingData.images)))"
   ]
  },
  {
   "cell_type": "code",
   "execution_count": 107,
   "metadata": {},
   "outputs": [
    {
     "name": "stdout",
     "output_type": "stream",
     "text": [
      "6955820\n",
      "1391.164\n"
     ]
    }
   ],
   "source": [
    "#idk if this is useful, I just remember reading about having some treshold value for perceptrons\n",
    "testTreshold = 0\n",
    "\n",
    "for i in range(10):\n",
    "    testTreshold += sum(map(sum, perceptrons[i].weightVector))\n",
    "print(testTreshold)\n",
    "testTreshold = testTreshold/len(trainingData.images)\n",
    "print(testTreshold)"
   ]
  },
  {
   "cell_type": "code",
   "execution_count": 109,
   "metadata": {},
   "outputs": [],
   "source": [
    "testData = Dataset(\"testimages\", \"testlabels\")\n",
    "confusion_matrix_count = [[0 for i in range(10)] for j in range(10)]\n",
    "\n",
    "indices = len(testData.images)\n",
    "for i in range(indices):\n",
    "    currImage = testData.images[i]\n",
    "    chances = [perceptrons[j].imageEvaluation(currImage) for j in range(10)]\n",
    "    bestGuess = chances.index(max(chances))\n",
    "    actualLabel = testData.labels[i]\n",
    "    if bestGuess == actualLabel :\n",
    "        perceptrons[actualLabel].trainVectorOnCorrect(currImage)\n",
    "        confusion_matrix_count[bestGuess][bestGuess] +=1\n",
    "    else :\n",
    "        retrainLoop(currImage, actualLabel)\n",
    "        confusion_matrix_count[actualLabel][bestGuess] +=1\n"
   ]
  },
  {
   "cell_type": "code",
   "execution_count": 110,
   "metadata": {},
   "outputs": [
    {
     "name": "stdout",
     "output_type": "stream",
     "text": [
      "[64, 8, 0, 0, 4, 3, 7, 0, 3, 1]\n",
      "[0, 108, 0, 0, 0, 0, 0, 0, 0, 0]\n",
      "[0, 47, 47, 0, 2, 0, 2, 4, 0, 1]\n",
      "[0, 38, 0, 54, 0, 2, 0, 4, 1, 1]\n",
      "[0, 33, 0, 0, 62, 0, 3, 0, 0, 9]\n",
      "[1, 39, 0, 10, 1, 26, 4, 3, 1, 7]\n",
      "[1, 37, 0, 0, 5, 0, 48, 0, 0, 0]\n",
      "[0, 50, 1, 0, 1, 0, 0, 45, 1, 8]\n",
      "[1, 34, 0, 8, 1, 4, 1, 3, 46, 5]\n",
      "[1, 26, 0, 2, 5, 0, 0, 4, 1, 61]\n"
     ]
    }
   ],
   "source": [
    "for i in range(10):\n",
    "    print(confusion_matrix_count[i])"
   ]
  },
  {
   "cell_type": "code",
   "execution_count": null,
   "metadata": {},
   "outputs": [],
   "source": []
  }
 ],
 "metadata": {
  "kernelspec": {
   "display_name": "Python 3",
   "language": "python",
   "name": "python3"
  },
  "language_info": {
   "codemirror_mode": {
    "name": "ipython",
    "version": 3
   },
   "file_extension": ".py",
   "mimetype": "text/x-python",
   "name": "python",
   "nbconvert_exporter": "python",
   "pygments_lexer": "ipython3",
   "version": "3.5.2"
  }
 },
 "nbformat": 4,
 "nbformat_minor": 2
}
